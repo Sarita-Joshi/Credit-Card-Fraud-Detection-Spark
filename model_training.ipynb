{
 "cells": [
  {
   "cell_type": "code",
   "execution_count": 1,
   "metadata": {},
   "outputs": [],
   "source": [
    "from pyspark.sql import SparkSession\n",
    "from pyspark.ml import Pipeline\n",
    "from pyspark.ml.feature import VectorAssembler, StringIndexer\n",
    "from pyspark.ml.tuning import ParamGridBuilder, CrossValidator\n",
    "from pyspark.ml.classification import GBTClassifier, RandomForestClassifier\n",
    "from pyspark.ml.evaluation import MulticlassClassificationEvaluator\n",
    "\n",
    "\n",
    "# Create a SparkSession\n",
    "spark = SparkSession.builder \\\n",
    "    .appName(\"CC_Fraud\") \\\n",
    "    .config(\"spark.executor.instances\", \"2\") \\\n",
    "    .getOrCreate()\n"
   ]
  },
  {
   "cell_type": "code",
   "execution_count": 2,
   "metadata": {},
   "outputs": [],
   "source": [
    "# Load your dataset into a Spark DataFrame\n",
    "df = spark.read.csv(\"./data/clean_train.csv\", header=True, inferSchema=True)\n",
    "\n",
    "# Define your features and target column\n",
    "feature_columns = [col for col in df.columns if col != \"is_fraud\"]\n",
    "label_column = \"is_fraud\""
   ]
  },
  {
   "cell_type": "code",
   "execution_count": 3,
   "metadata": {},
   "outputs": [],
   "source": [
    "indexers = [StringIndexer(inputCol=col, outputCol=col+\"_index\") for col in [\"merchant\", \"category\", \"gender\", \"job\"]]\n",
    "\n",
    "indexed_data = df\n",
    "for indexer in indexers:\n",
    "    indexed_data = indexer.fit(indexed_data).transform(indexed_data)\n",
    "\n",
    "indexed_data = indexed_data.drop(\"merchant\", \"category\", \"gender\", \"job\")\n",
    "indexed_data = indexed_data.withColumnRenamed(\"merchant_index\", \"merchant\").withColumnRenamed(\"category_index\", \"category\").withColumnRenamed(\"gender_index\", \"gender\").withColumnRenamed(\"job_index\", \"job\")"
   ]
  },
  {
   "cell_type": "code",
   "execution_count": 28,
   "metadata": {},
   "outputs": [],
   "source": [
    "# indexers = [StringIndexer(inputCol=col, outputCol=col+\"_index\") for col in [\"merchant\", \"category\", \"gender\", \"job\"]]\n",
    "cols = [\"merchant\", \"category\", \"gender\", \"job\"]\n",
    "for i in range(len(indexers)):\n",
    "    indexers[i].save('C:/Users/saritajoshi/Documents/Repos/Credit-Card-Fraud-Detection-Spark/indexers/'+cols[i])\n",
    "    # loadedIndexer = StringIndexer.load(stringIndexerPath)"
   ]
  },
  {
   "cell_type": "code",
   "execution_count": 4,
   "metadata": {},
   "outputs": [],
   "source": [
    "\n",
    "assembler = VectorAssembler(inputCols=feature_columns, outputCol=\"features\")\n",
    "classifier = RandomForestClassifier(featuresCol=\"features\", labelCol=label_column, numTrees=10, maxBins=700)\n",
    "\n",
    "# Construct the pipeline\n",
    "pipeline = Pipeline(stages=indexers + [assembler, classifier])"
   ]
  },
  {
   "cell_type": "code",
   "execution_count": 5,
   "metadata": {},
   "outputs": [],
   "source": [
    "# Split data into training and test sets\n",
    "train_data, test_data = indexed_data.randomSplit([0.8, 0.2], seed=42)"
   ]
  },
  {
   "cell_type": "code",
   "execution_count": 29,
   "metadata": {},
   "outputs": [
    {
     "data": {
      "text/plain": [
       "Row(_c0=0, amt=166.8, lat=39.3426, long=-114.8859, city_pop=450, unix_time=1371108903, merch_lat=40.088507, merch_long=-113.895268, is_fraud=0, merchant=69.0, category=1.0, gender=1.0, job=316.0)"
      ]
     },
     "execution_count": 29,
     "metadata": {},
     "output_type": "execute_result"
    }
   ],
   "source": [
    "indexed_data.head()"
   ]
  },
  {
   "cell_type": "code",
   "execution_count": 6,
   "metadata": {},
   "outputs": [],
   "source": [
    "# Train the pipeline\n",
    "model = pipeline.fit(train_data)"
   ]
  },
  {
   "cell_type": "code",
   "execution_count": 7,
   "metadata": {},
   "outputs": [
    {
     "name": "stdout",
     "output_type": "stream",
     "text": [
      "Accuracy: 0.9951611051455045\n"
     ]
    }
   ],
   "source": [
    "# Make predictions on test data\n",
    "predictions = model.transform(test_data)\n",
    "\n",
    "# Evaluate the model\n",
    "evaluator = MulticlassClassificationEvaluator(labelCol=label_column, predictionCol='prediction', metricName='accuracy')\n",
    "accuracy = evaluator.evaluate(predictions)\n",
    "print(\"Accuracy:\", accuracy)\n"
   ]
  },
  {
   "cell_type": "code",
   "execution_count": 8,
   "metadata": {},
   "outputs": [],
   "source": [
    "model.save(\"/model1\")"
   ]
  },
  {
   "cell_type": "code",
   "execution_count": 9,
   "metadata": {},
   "outputs": [],
   "source": [
    "# Stop SparkSession\n",
    "# spark.stop()"
   ]
  },
  {
   "cell_type": "code",
   "execution_count": 10,
   "metadata": {},
   "outputs": [],
   "source": [
    "# import pickle\n",
    "# with open('./modelp.pkl', \"wb\") as f:\n",
    "#     pickle.dump(model, f)\n"
   ]
  },
  {
   "cell_type": "code",
   "execution_count": 11,
   "metadata": {},
   "outputs": [],
   "source": []
  },
  {
   "cell_type": "code",
   "execution_count": 12,
   "metadata": {},
   "outputs": [],
   "source": [
    "# from pyspark.ml import Pipeline, Pipeline"
   ]
  },
  {
   "cell_type": "code",
   "execution_count": null,
   "metadata": {},
   "outputs": [],
   "source": []
  },
  {
   "cell_type": "code",
   "execution_count": 13,
   "metadata": {},
   "outputs": [],
   "source": [
    "# path=\"./model/\"\n",
    "# model.write().overwrite().save( path)\n",
    "# newmodel= PipelineModel.load(path)\n",
    "\t"
   ]
  },
  {
   "cell_type": "code",
   "execution_count": 27,
   "metadata": {},
   "outputs": [
    {
     "name": "stdout",
     "output_type": "stream",
     "text": [
      "StringIndexer_7b7f9d07b41a__inputCols\n",
      "StringIndexer_80b4a0b467a7__inputCols\n",
      "StringIndexer_6420fbb5dcea__inputCols\n",
      "StringIndexer_27d615d0c5d4__inputCols\n"
     ]
    }
   ],
   "source": []
  },
  {
   "cell_type": "code",
   "execution_count": null,
   "metadata": {},
   "outputs": [],
   "source": []
  }
 ],
 "metadata": {
  "kernelspec": {
   "display_name": "Python 3",
   "language": "python",
   "name": "python3"
  },
  "language_info": {
   "codemirror_mode": {
    "name": "ipython",
    "version": 3
   },
   "file_extension": ".py",
   "mimetype": "text/x-python",
   "name": "python",
   "nbconvert_exporter": "python",
   "pygments_lexer": "ipython3",
   "version": "3.11.4"
  }
 },
 "nbformat": 4,
 "nbformat_minor": 2
}
