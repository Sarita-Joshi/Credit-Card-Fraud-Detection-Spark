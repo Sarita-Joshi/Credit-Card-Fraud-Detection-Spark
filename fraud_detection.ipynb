{
 "cells": [
  {
   "cell_type": "code",
   "execution_count": 1,
   "metadata": {},
   "outputs": [],
   "source": [
    "from kafka import KafkaConsumer\n",
    "from kafka import TopicPartition\n",
    "from datetime import datetime\n",
    "import pandas as pd\n",
    "from cassandra.cluster import Cluster\n",
    "import json\n",
    "from botocore.vendored import requests\n",
    "import findspark\n",
    "findspark.init()\n",
    "import pyspark.sql \n",
    "from pyspark.context import SparkContext\n",
    "from pyspark.sql.session import SparkSession\n",
    "from pyspark.ml.classification import LogisticRegression\n",
    "from pyspark.ml.feature import HashingTF, Tokenizer\n",
    "from pyspark.ml import Pipeline, PipelineModel\n",
    "from pyspark.sql import SQLContext\n",
    "from pyspark.sql import SparkSession\n",
    "from pyspark.ml import Pipeline, PipelineModel\n",
    "from pyspark.ml.feature import OneHotEncoder, StringIndexer, VectorAssembler\n",
    "from pyspark.ml.classification import LogisticRegression\n",
    "import pandas as pd\n",
    "from cassandra.cluster import Cluster\n",
    "import numpy as np\n",
    "from pyspark.sql.types import *"
   ]
  },
  {
   "cell_type": "code",
   "execution_count": 2,
   "metadata": {},
   "outputs": [],
   "source": [
    "# #------------------------------- SPARK CONTEXT -------------------------------\n",
    "sc = SparkContext('local')\n",
    "spark = SparkSession(sc)\n",
    "spark = SparkSession.builder.appName('CC_Fraud').getOrCreate()\n"
   ]
  },
  {
   "cell_type": "code",
   "execution_count": 3,
   "metadata": {},
   "outputs": [],
   "source": [
    "#------------------------------- Load Model from File System -------------------------------\n",
    "\n",
    "def MachineLearningModelLoading():\n",
    "\tpath = r\"C:\\Users\\saritajoshi\\Documents\\Repos\\Credit-Card-Fraud-Detection-Spark\\model\"\n",
    "\tnewmodel = PipelineModel.load(path)\n",
    "\treturn newmodel\n",
    "\t\n",
    "newmodel = MachineLearningModelLoading()\n"
   ]
  },
  {
   "cell_type": "code",
   "execution_count": null,
   "metadata": {},
   "outputs": [],
   "source": []
  },
  {
   "cell_type": "code",
   "execution_count": 4,
   "metadata": {},
   "outputs": [],
   "source": [
    "# feature_columns = [col for col in df.columns if col != \"is_fraud\"]\n",
    "# assembler = VectorAssembler(inputCols=feature_columns, outputCol=\"features\")"
   ]
  },
  {
   "cell_type": "code",
   "execution_count": 5,
   "metadata": {},
   "outputs": [],
   "source": [
    "#------------------------------------ Data Cleaning -------------------------------------\n",
    "def predicting_status(data_all,newmodel):\n",
    "\tselect_cols = ['amt', 'lat', 'long', 'city_pop', 'unix_time','merch_lat', 'merch_long','merchant_label','category_label', 'gender_label', 'job_label'] #all numeric\n",
    "\tprint(data_all.columns)\n",
    "\tdata = data_all.select(select_cols)\n",
    "\tpred1 = newmodel.transform(data)\n",
    "\treturn pred1.select(\"prediction\")\n",
    "\n",
    "# df = spark.read.json(sc.parallelize([dd]))\n",
    "# res = predicting_status(df, newmodel)"
   ]
  },
  {
   "cell_type": "code",
   "execution_count": 6,
   "metadata": {},
   "outputs": [
    {
     "name": "stderr",
     "output_type": "stream",
     "text": [
      "WARNING:cassandra.cluster:[control connection] Error connecting to 127.0.0.1:9042:\n",
      "Traceback (most recent call last):\n",
      "  File \"cassandra\\cluster.py\", line 3577, in cassandra.cluster.ControlConnection._reconnect_internal\n",
      "  File \"cassandra\\cluster.py\", line 3599, in cassandra.cluster.ControlConnection._try_connect\n",
      "  File \"cassandra\\cluster.py\", line 1670, in cassandra.cluster.Cluster.connection_factory\n",
      "  File \"cassandra\\connection.py\", line 846, in cassandra.connection.Connection.factory\n",
      "  File \"c:\\Users\\saritajoshi\\Documents\\Repos\\Credit-Card-Fraud-Detection-Spark\\venv\\Lib\\site-packages\\cassandra\\io\\asyncorereactor.py\", line 354, in __init__\n",
      "    self._connect_socket()\n",
      "  File \"cassandra\\connection.py\", line 951, in cassandra.connection.Connection._connect_socket\n",
      "ConnectionRefusedError: [Errno 10061] Tried connecting to [('127.0.0.1', 9042)]. Last error: No connection could be made because the target machine actively refused it\n"
     ]
    }
   ],
   "source": [
    "\n",
    "#------------------------------------------- CASSANDRA CONNECTION -------------------------------------------------------\n",
    "cluster = Cluster()\n",
    "session = cluster.connect()\n",
    "\n",
    "session.execute(\"CREATE KEYSPACE IF NOT EXISTS bigdata WITH replication = {'class':'SimpleStrategy', 'replication_factor' : 3}\")\n",
    "session.set_keyspace(\"bigdata\")\n",
    "\n",
    "#session.execute(\"DROP TABLE testing\")\n",
    "# session.execute(\"CREATE TABLE IF NOT EXISTS testing (txn_id varchar PRIMARY KEY,cc_no bigint ,txn_time varchar, year smallint, month smallint, day smallint, hour smallint, minute smallint,amount double, cc_provider int, merchant varchar,merchant_index smallint, country_name varchar, country_code varchar,country_index smallint, age int, marital_status varchar,marital_status_index smallint,gender varchar,gender_index smallint,loan varchar,loan_index smallint, status varchar,status_index smallint)\")\n"
   ]
  },
  {
   "cell_type": "code",
   "execution_count": null,
   "metadata": {},
   "outputs": [],
   "source": [
    "topic_name = 'transaction_data'\n",
    "keyspace = 'bigdata'\n",
    "table = 'transaction_data'"
   ]
  },
  {
   "cell_type": "code",
   "execution_count": 54,
   "metadata": {},
   "outputs": [
    {
     "name": "stderr",
     "output_type": "stream",
     "text": [
      "WARNING:kafka.coordinator.consumer:group_id is None: disabling auto-commit.\n"
     ]
    },
    {
     "name": "stdout",
     "output_type": "stream",
     "text": [
      "['amt', 'category', 'category_label', 'cc_num', 'city', 'city_pop', 'dob', 'first', 'gender', 'gender_label', 'is_fraud', 'job', 'job_label', 'last', 'lat', 'long', 'merch_lat', 'merch_long', 'merchant', 'merchant_label', 'state', 'street', 'trans_date_trans_time', 'trans_num', 'unix_time', 'zip']\n",
      "['amt', 'category', 'category_label', 'cc_num', 'city', 'city_pop', 'dob', 'first', 'gender', 'gender_label', 'is_fraud', 'job', 'job_label', 'last', 'lat', 'long', 'merch_lat', 'merch_long', 'merchant', 'merchant_label', 'state', 'street', 'trans_date_trans_time', 'trans_num', 'unix_time', 'zip']\n",
      "['amt', 'category', 'category_label', 'cc_num', 'city', 'city_pop', 'dob', 'first', 'gender', 'gender_label', 'is_fraud', 'job', 'job_label', 'last', 'lat', 'long', 'merch_lat', 'merch_long', 'merchant', 'merchant_label', 'state', 'street', 'trans_date_trans_time', 'trans_num', 'unix_time', 'zip']\n",
      "['amt', 'category', 'category_label', 'cc_num', 'city', 'city_pop', 'dob', 'first', 'gender', 'gender_label', 'is_fraud', 'job', 'job_label', 'last', 'lat', 'long', 'merch_lat', 'merch_long', 'merchant', 'merchant_label', 'state', 'street', 'trans_date_trans_time', 'trans_num', 'unix_time', 'zip']\n",
      "['amt', 'category', 'category_label', 'cc_num', 'city', 'city_pop', 'dob', 'first', 'gender', 'gender_label', 'is_fraud', 'job', 'job_label', 'last', 'lat', 'long', 'merch_lat', 'merch_long', 'merchant', 'merchant_label', 'state', 'street', 'trans_date_trans_time', 'trans_num', 'unix_time', 'zip']\n",
      "['amt', 'category', 'category_label', 'cc_num', 'city', 'city_pop', 'dob', 'first', 'gender', 'gender_label', 'is_fraud', 'job', 'job_label', 'last', 'lat', 'long', 'merch_lat', 'merch_long', 'merchant', 'merchant_label', 'state', 'street', 'trans_date_trans_time', 'trans_num', 'unix_time', 'zip']\n",
      "['amt', 'category', 'category_label', 'cc_num', 'city', 'city_pop', 'dob', 'first', 'gender', 'gender_label', 'is_fraud', 'job', 'job_label', 'last', 'lat', 'long', 'merch_lat', 'merch_long', 'merchant', 'merchant_label', 'state', 'street', 'trans_date_trans_time', 'trans_num', 'unix_time', 'zip']\n",
      "['amt', 'category', 'category_label', 'cc_num', 'city', 'city_pop', 'dob', 'first', 'gender', 'gender_label', 'is_fraud', 'job', 'job_label', 'last', 'lat', 'long', 'merch_lat', 'merch_long', 'merchant', 'merchant_label', 'state', 'street', 'trans_date_trans_time', 'trans_num', 'unix_time', 'zip']\n",
      "['amt', 'category', 'category_label', 'cc_num', 'city', 'city_pop', 'dob', 'first', 'gender', 'gender_label', 'is_fraud', 'job', 'job_label', 'last', 'lat', 'long', 'merch_lat', 'merch_long', 'merchant', 'merchant_label', 'state', 'street', 'trans_date_trans_time', 'trans_num', 'unix_time', 'zip']\n",
      "['amt', 'category', 'category_label', 'cc_num', 'city', 'city_pop', 'dob', 'first', 'gender', 'gender_label', 'is_fraud', 'job', 'job_label', 'last', 'lat', 'long', 'merch_lat', 'merch_long', 'merchant', 'merchant_label', 'state', 'street', 'trans_date_trans_time', 'trans_num', 'unix_time', 'zip']\n",
      "['amt', 'category', 'category_label', 'cc_num', 'city', 'city_pop', 'dob', 'first', 'gender', 'gender_label', 'is_fraud', 'job', 'job_label', 'last', 'lat', 'long', 'merch_lat', 'merch_long', 'merchant', 'merchant_label', 'state', 'street', 'trans_date_trans_time', 'trans_num', 'unix_time', 'zip']\n",
      "['amt', 'category', 'category_label', 'cc_num', 'city', 'city_pop', 'dob', 'first', 'gender', 'gender_label', 'is_fraud', 'job', 'job_label', 'last', 'lat', 'long', 'merch_lat', 'merch_long', 'merchant', 'merchant_label', 'state', 'street', 'trans_date_trans_time', 'trans_num', 'unix_time', 'zip']\n",
      "['amt', 'category', 'category_label', 'cc_num', 'city', 'city_pop', 'dob', 'first', 'gender', 'gender_label', 'is_fraud', 'job', 'job_label', 'last', 'lat', 'long', 'merch_lat', 'merch_long', 'merchant', 'merchant_label', 'state', 'street', 'trans_date_trans_time', 'trans_num', 'unix_time', 'zip']\n",
      "['amt', 'category', 'category_label', 'cc_num', 'city', 'city_pop', 'dob', 'first', 'gender', 'gender_label', 'is_fraud', 'job', 'job_label', 'last', 'lat', 'long', 'merch_lat', 'merch_long', 'merchant', 'merchant_label', 'state', 'street', 'trans_date_trans_time', 'trans_num', 'unix_time', 'zip']\n",
      "['amt', 'category', 'category_label', 'cc_num', 'city', 'city_pop', 'dob', 'first', 'gender', 'gender_label', 'is_fraud', 'job', 'job_label', 'last', 'lat', 'long', 'merch_lat', 'merch_long', 'merchant', 'merchant_label', 'state', 'street', 'trans_date_trans_time', 'trans_num', 'unix_time', 'zip']\n",
      "['amt', 'category', 'category_label', 'cc_num', 'city', 'city_pop', 'dob', 'first', 'gender', 'gender_label', 'is_fraud', 'job', 'job_label', 'last', 'lat', 'long', 'merch_lat', 'merch_long', 'merchant', 'merchant_label', 'state', 'street', 'trans_date_trans_time', 'trans_num', 'unix_time', 'zip']\n",
      "['amt', 'category', 'category_label', 'cc_num', 'city', 'city_pop', 'dob', 'first', 'gender', 'gender_label', 'is_fraud', 'job', 'job_label', 'last', 'lat', 'long', 'merch_lat', 'merch_long', 'merchant', 'merchant_label', 'state', 'street', 'trans_date_trans_time', 'trans_num', 'unix_time', 'zip']\n",
      "['amt', 'category', 'category_label', 'cc_num', 'city', 'city_pop', 'dob', 'first', 'gender', 'gender_label', 'is_fraud', 'job', 'job_label', 'last', 'lat', 'long', 'merch_lat', 'merch_long', 'merchant', 'merchant_label', 'state', 'street', 'trans_date_trans_time', 'trans_num', 'unix_time', 'zip']\n",
      "['amt', 'category', 'category_label', 'cc_num', 'city', 'city_pop', 'dob', 'first', 'gender', 'gender_label', 'is_fraud', 'job', 'job_label', 'last', 'lat', 'long', 'merch_lat', 'merch_long', 'merchant', 'merchant_label', 'state', 'street', 'trans_date_trans_time', 'trans_num', 'unix_time', 'zip']\n",
      "['amt', 'category', 'category_label', 'cc_num', 'city', 'city_pop', 'dob', 'first', 'gender', 'gender_label', 'is_fraud', 'job', 'job_label', 'last', 'lat', 'long', 'merch_lat', 'merch_long', 'merchant', 'merchant_label', 'state', 'street', 'trans_date_trans_time', 'trans_num', 'unix_time', 'zip']\n",
      "['amt', 'category', 'category_label', 'cc_num', 'city', 'city_pop', 'dob', 'first', 'gender', 'gender_label', 'is_fraud', 'job', 'job_label', 'last', 'lat', 'long', 'merch_lat', 'merch_long', 'merchant', 'merchant_label', 'state', 'street', 'trans_date_trans_time', 'trans_num', 'unix_time', 'zip']\n",
      "['amt', 'category', 'category_label', 'cc_num', 'city', 'city_pop', 'dob', 'first', 'gender', 'gender_label', 'is_fraud', 'job', 'job_label', 'last', 'lat', 'long', 'merch_lat', 'merch_long', 'merchant', 'merchant_label', 'state', 'street', 'trans_date_trans_time', 'trans_num', 'unix_time', 'zip']\n"
     ]
    },
    {
     "ename": "SyntaxException",
     "evalue": "<Error from server: code=2000 [Syntax error in CQL query] message=\"line 1:414 mismatched input 's' expecting EOF (... INTO bigdata.transaction_data JSON '{\"trans_date_trans_time\": \"2020-08-07 12:17:48\", \"cc_num\": 4400011257587661852, \"merchant\": \"fraud_Monahan, Hermann and Johns\", \"category\": \"travel\", \"amt\": 8.84, \"first\": \"Marissa\", \"last\": \"Powell\", \"gender\": \"F\", \"street\": \"474 Allen Haven\", \"city\": \"North Loup\", \"state\": \"NE\", \"zip\": 68859, \"lat\": 41.4972, \"long\": -98.7858, \"city_pop\": 509, \"job\": \"Nurse, children'[s]...)\">",
     "output_type": "error",
     "traceback": [
      "\u001b[1;31m---------------------------------------------------------------------------\u001b[0m",
      "\u001b[1;31mSyntaxException\u001b[0m                           Traceback (most recent call last)",
      "Cell \u001b[1;32mIn[54], line 14\u001b[0m\n\u001b[0;32m     11\u001b[0m \u001b[38;5;66;03m# print('processed...', status)\u001b[39;00m\n\u001b[0;32m     13\u001b[0m insert_query \u001b[38;5;241m=\u001b[39m \u001b[38;5;124mf\u001b[39m\u001b[38;5;124m\"\u001b[39m\u001b[38;5;124mINSERT INTO \u001b[39m\u001b[38;5;132;01m{\u001b[39;00mkeyspace\u001b[38;5;132;01m}\u001b[39;00m\u001b[38;5;124m.\u001b[39m\u001b[38;5;132;01m{\u001b[39;00mtable\u001b[38;5;132;01m}\u001b[39;00m\u001b[38;5;124m JSON \u001b[39m\u001b[38;5;124m'\u001b[39m\u001b[38;5;132;01m{\u001b[39;00mjson\u001b[38;5;241m.\u001b[39mdumps(output)\u001b[38;5;132;01m}\u001b[39;00m\u001b[38;5;124m'\u001b[39m\u001b[38;5;124m;\u001b[39m\u001b[38;5;124m\"\u001b[39m\n\u001b[1;32m---> 14\u001b[0m \u001b[43msession\u001b[49m\u001b[38;5;241;43m.\u001b[39;49m\u001b[43mexecute\u001b[49m\u001b[43m(\u001b[49m\u001b[43minsert_query\u001b[49m\u001b[43m)\u001b[49m\n",
      "File \u001b[1;32mc:\\Users\\saritajoshi\\Documents\\Repos\\Credit-Card-Fraud-Detection-Spark\\venv\\Lib\\site-packages\\cassandra\\cluster.py:2677\u001b[0m, in \u001b[0;36mcassandra.cluster.Session.execute\u001b[1;34m()\u001b[0m\n",
      "File \u001b[1;32mc:\\Users\\saritajoshi\\Documents\\Repos\\Credit-Card-Fraud-Detection-Spark\\venv\\Lib\\site-packages\\cassandra\\cluster.py:4956\u001b[0m, in \u001b[0;36mcassandra.cluster.ResponseFuture.result\u001b[1;34m()\u001b[0m\n",
      "\u001b[1;31mSyntaxException\u001b[0m: <Error from server: code=2000 [Syntax error in CQL query] message=\"line 1:414 mismatched input 's' expecting EOF (... INTO bigdata.transaction_data JSON '{\"trans_date_trans_time\": \"2020-08-07 12:17:48\", \"cc_num\": 4400011257587661852, \"merchant\": \"fraud_Monahan, Hermann and Johns\", \"category\": \"travel\", \"amt\": 8.84, \"first\": \"Marissa\", \"last\": \"Powell\", \"gender\": \"F\", \"street\": \"474 Allen Haven\", \"city\": \"North Loup\", \"state\": \"NE\", \"zip\": 68859, \"lat\": 41.4972, \"long\": -98.7858, \"city_pop\": 509, \"job\": \"Nurse, children'[s]...)\">"
     ]
    }
   ],
   "source": [
    "consumer = KafkaConsumer(topic_name, group_id=None, bootstrap_servers=['localhost:9092'])\n",
    "for msg in consumer:\n",
    "\t# print('msg', msg)\n",
    "\tmsg=msg.value.decode(\"utf-8\")\n",
    "\toutput = json.loads(msg)\n",
    "\tdf = spark.read.json(sc.parallelize([msg]))\n",
    "\tstatus = predicting_status(df,newmodel)\n",
    "\t# print(status)\n",
    "\tstatus = int(status.collect()[0][0])\n",
    "\toutput['is_fraud_prediction'] = status\n",
    "\t# print('processed...', status)\n",
    "\n",
    "\tinsert_query = f\"INSERT INTO {keyspace}.{table} JSON '{json.dumps(output)}';\"\n",
    "\tsession.execute(insert_query)"
   ]
  },
  {
   "cell_type": "code",
   "execution_count": null,
   "metadata": {},
   "outputs": [],
   "source": [
    "\n",
    "consumer.close()\n",
    "spark.stop()"
   ]
  },
  {
   "cell_type": "code",
   "execution_count": 47,
   "metadata": {},
   "outputs": [
    {
     "data": {
      "text/plain": [
       "<cassandra.cluster.ResultSet at 0x2764619a3d0>"
      ]
     },
     "execution_count": 47,
     "metadata": {},
     "output_type": "execute_result"
    }
   ],
   "source": [
    "insert_query = f\"INSERT INTO {keyspace}.{table} JSON '{json.dumps(output)}';\"\n",
    "session.execute(insert_query)"
   ]
  },
  {
   "cell_type": "code",
   "execution_count": 43,
   "metadata": {},
   "outputs": [],
   "source": [
    "output['is_fraud_prediction'] = 0"
   ]
  },
  {
   "cell_type": "code",
   "execution_count": null,
   "metadata": {},
   "outputs": [],
   "source": []
  }
 ],
 "metadata": {
  "kernelspec": {
   "display_name": "Python 3",
   "language": "python",
   "name": "python3"
  },
  "language_info": {
   "codemirror_mode": {
    "name": "ipython",
    "version": 3
   },
   "file_extension": ".py",
   "mimetype": "text/x-python",
   "name": "python",
   "nbconvert_exporter": "python",
   "pygments_lexer": "ipython3",
   "version": "3.11.4"
  }
 },
 "nbformat": 4,
 "nbformat_minor": 2
}
