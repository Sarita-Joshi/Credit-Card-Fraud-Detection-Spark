{
 "cells": [
  {
   "cell_type": "code",
   "execution_count": null,
   "metadata": {},
   "outputs": [],
   "source": [
    "from pyspark.sql import SparkSession\n",
    "from pyspark.ml import PipelineModel\n",
    "from kafka import KafkaConsumer\n",
    "import json\n",
    "\n",
    "# Initialize SparkSession\n",
    "spark = SparkSession.builder \\\n",
    "    .appName(\"KafkaStreamProcessing\") \\\n",
    "    .getOrCreate()\n",
    "\n",
    "# Load the saved trained ML model\n",
    "model = PipelineModel.load('trained_model')\n",
    "\n",
    "# Kafka consumer settings\n",
    "topic_name = 'your_topic_name'\n",
    "bootstrap_servers = 'localhost:9092'\n",
    "consumer_group_id = 'your_consumer_group_id'\n",
    "\n",
    "# Create Kafka consumer\n",
    "consumer = KafkaConsumer(topic_name,\n",
    "                         group_id=consumer_group_id,\n",
    "                         bootstrap_servers=bootstrap_servers,\n",
    "                         value_deserializer=lambda x: json.loads(x.decode('utf-8')))\n",
    "\n",
    "# Output file path\n",
    "output_file = 'output_predictions.txt'\n",
    "\n",
    "# Function to predict output and write to file\n",
    "def predict_and_write(df):\n",
    "    # Perform prediction\n",
    "    predictions = model.transform(df)\n",
    "    \n",
    "    # Write predictions to file\n",
    "    predictions.select(\"input_data\", \"prediction\").write.mode(\"append\").csv(output_file, header=False)\n",
    "\n",
    "# Listen to Kafka topic and predict output\n",
    "for message in consumer:\n",
    "    # Get data from Kafka message\n",
    "    data_dict = message.value\n",
    "    data_list = [(data_dict['feature1'], data_dict['feature2'], ..., data_dict['featureN'])]\n",
    "    df = spark.createDataFrame(data_list, schema=model.stages[0].transformedSchema)\n",
    "    \n",
    "    # Predict output and write to file\n",
    "    predict_and_write(df)\n"
   ]
  }
 ],
 "metadata": {
  "language_info": {
   "name": "python"
  }
 },
 "nbformat": 4,
 "nbformat_minor": 2
}
