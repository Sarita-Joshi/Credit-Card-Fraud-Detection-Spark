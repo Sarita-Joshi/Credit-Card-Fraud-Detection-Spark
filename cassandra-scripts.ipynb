{
 "cells": [
  {
   "cell_type": "code",
   "execution_count": 1,
   "metadata": {},
   "outputs": [
    {
     "name": "stdout",
     "output_type": "stream",
     "text": [
      "Requirement already satisfied: cassandra-driver in c:\\users\\saritajoshi\\documents\\repos\\credit-card-fraud-detection-spark\\venv\\lib\\site-packages (3.29.1)\n",
      "Requirement already satisfied: geomet<0.3,>=0.1 in c:\\users\\saritajoshi\\documents\\repos\\credit-card-fraud-detection-spark\\venv\\lib\\site-packages (from cassandra-driver) (0.2.1.post1)\n",
      "Requirement already satisfied: click in c:\\users\\saritajoshi\\documents\\repos\\credit-card-fraud-detection-spark\\venv\\lib\\site-packages (from geomet<0.3,>=0.1->cassandra-driver) (8.1.7)\n",
      "Requirement already satisfied: six in c:\\users\\saritajoshi\\documents\\repos\\credit-card-fraud-detection-spark\\venv\\lib\\site-packages (from geomet<0.3,>=0.1->cassandra-driver) (1.16.0)\n",
      "Requirement already satisfied: colorama in c:\\users\\saritajoshi\\documents\\repos\\credit-card-fraud-detection-spark\\venv\\lib\\site-packages (from click->geomet<0.3,>=0.1->cassandra-driver) (0.4.6)\n",
      "Note: you may need to restart the kernel to use updated packages.\n"
     ]
    },
    {
     "name": "stderr",
     "output_type": "stream",
     "text": [
      "\n",
      "[notice] A new release of pip is available: 23.1.2 -> 24.0\n",
      "[notice] To update, run: python.exe -m pip install --upgrade pip\n"
     ]
    }
   ],
   "source": [
    "pip install cassandra-driver"
   ]
  },
  {
   "cell_type": "code",
   "execution_count": 2,
   "metadata": {},
   "outputs": [],
   "source": [
    "from cassandra.cluster import Cluster\n",
    "\n",
    "# Connect to the local Cassandra instance\n",
    "cluster = Cluster(['127.0.0.1'])  # Assuming Cassandra is running on localhost\n",
    "session = cluster.connect()\n",
    "\n"
   ]
  },
  {
   "cell_type": "code",
   "execution_count": 4,
   "metadata": {},
   "outputs": [],
   "source": [
    "session.execute(\"CREATE KEYSPACE IF NOT EXISTS bigdata WITH replication = {'class':'SimpleStrategy', 'replication_factor' : 3}\")\n",
    "session.set_keyspace(\"bigdata\")"
   ]
  },
  {
   "cell_type": "code",
   "execution_count": 5,
   "metadata": {},
   "outputs": [
    {
     "data": {
      "text/plain": [
       "<cassandra.cluster.ResultSet at 0x272d8502310>"
      ]
     },
     "execution_count": 5,
     "metadata": {},
     "output_type": "execute_result"
    }
   ],
   "source": [
    "# Execute your Cassandra commands here\n",
    "query = \"CREATE TABLE IF NOT EXISTS test (id UUID PRIMARY KEY, amt FLOAT)\"\n",
    "session.execute(query)\n",
    "\n"
   ]
  },
  {
   "cell_type": "code",
   "execution_count": 8,
   "metadata": {},
   "outputs": [
    {
     "data": {
      "text/plain": [
       "<cassandra.cluster.ResultSet at 0x272d8d78590>"
      ]
     },
     "execution_count": 8,
     "metadata": {},
     "output_type": "execute_result"
    }
   ],
   "source": [
    "from cassandra.cluster import Cluster\n",
    "import json\n",
    "# JSON data to insert\n",
    "json_data = {\n",
    "    \"id\": \"123e4567-e89b-12d3-a456-426614174000\",\n",
    "    \"amt\": 100.50\n",
    "}\n",
    "\n",
    "# Convert JSON data to a string\n",
    "json_string = json.dumps(json_data)\n",
    "\n",
    "# Prepare and execute the INSERT statement with JSON data\n",
    "insert_query = \"INSERT INTO test JSON %s\"\n",
    "session.execute(insert_query, [json_string])\n",
    "\n",
    "# Close the connection\n",
    "# session.shutdown()\n",
    "# cluster.shutdown()\n"
   ]
  },
  {
   "cell_type": "code",
   "execution_count": 9,
   "metadata": {},
   "outputs": [
    {
     "name": "stdout",
     "output_type": "stream",
     "text": [
      "Row(id=UUID('123e4567-e89b-12d3-a456-426614174000'), amt=100.5)\n"
     ]
    }
   ],
   "source": [
    "# Prepare and execute the SELECT statement\n",
    "select_query = \"SELECT * FROM test\"\n",
    "result_set = session.execute(select_query)\n",
    "\n",
    "# Process the result set\n",
    "for row in result_set:\n",
    "    print(row)\n"
   ]
  },
  {
   "cell_type": "code",
   "execution_count": null,
   "metadata": {},
   "outputs": [],
   "source": [
    "import csv\n",
    "from cassandra.cluster import Cluster\n",
    "import json\n",
    "cluster = Cluster()\n",
    "session = cluster.connect()\n",
    "session.set_keyspace(\"bigdata\")\n",
    "session.execute(\"CREATE TABLE IF NOT EXISTS training (txn_id varchar PRIMARY KEY,cc_no bigint ,txn_time varchar, year smallint, month smallint, day smallint, hour smallint, minute smallint,amount float, cc_provider int, merchant varchar,merchant_index smallint, country_name varchar, country_code varchar,country_index smallint, age int, marital_status varchar,marital_status_index smallint,gender varchar,gender_index smallint,loan varchar,loan_index smallint, status varchar,status_index smallint)\")\n",
    "with open('50_50.csv', 'r',encoding=\"ISO-8859-1\") as csvfile:\n",
    "        reader=csv.reader(csvfile)\n",
    "        for row in reader:\n",
    "        \t#print(row)\n",
    "        \t#msg=json.loads(row)\n",
    "        \t#print(msg)\n",
    "        \tdic={\n",
    "        \t\"txn_id\":row[0],\n",
    "        \t\"cc_no\":row[1],\n",
    "        \t\"txn_time\":row[2],\n",
    "        \t\"year\":row[3],\n",
    "        \t\"month\":row[4],\n",
    "        \t\"day\":row[5],\n",
    "        \t\"hour\":row[6],\n",
    "        \t\"minute\":row[7],\n",
    "        \t\"amount\":row[8],\n",
    "        \t\"cc_provider\":row[9],\n",
    "        \t\"merchant\":row[10],\n",
    "            \"merchant_index\":row[11],\n",
    "        \t\"country_name\":row[12],\n",
    "        \t\"country_code\":row[13],\n",
    "            \"country_index\":row[14],\n",
    "        \t\"age\":row[15],\n",
    "        \t\"marital_status\":row[16],\n",
    "            \"marital_status_index\":row[17],\n",
    "        \t\"gender\":row[18],\n",
    "            \"gender_index\":row[19],\n",
    "        \t\"loan\":row[20],\n",
    "            \"loan_index\":row[21],\n",
    "        \t\"status\":row[22],\n",
    "            \"status_index\":row[23]\n",
    "        \t}            \n",
    "        \tr = json.dumps(dic)\n",
    "        \t#print(r)\n",
    "        \tstrq=\" INSERT INTO training JSON \"+\"'\"+r+\"'\"\n",
    "        \tsession.execute(strq)"
   ]
  },
  {
   "cell_type": "code",
   "execution_count": 20,
   "metadata": {},
   "outputs": [
    {
     "data": {
      "text/plain": [
       "<cassandra.cluster.ResultSet at 0x272d823fa90>"
      ]
     },
     "execution_count": 20,
     "metadata": {},
     "output_type": "execute_result"
    }
   ],
   "source": [
    "from cassandra.cluster import Cluster\n",
    "\n",
    "# # Connect to Cassandra\n",
    "# cluster = Cluster(['127.0.0.1'])  # Change to your Cassandra host\n",
    "# session = cluster.connect('bigdata')  # Change to your keyspace\n",
    "\n",
    "# Define CQL query to create a table\n",
    "create_table_query = \"\"\"\n",
    "    CREATE TABLE IF NOT EXISTS bank (\n",
    "        age INT,\n",
    "        job TEXT,\n",
    "        marital TEXT,\n",
    "        education TEXT,\n",
    "        default_col TEXT,\n",
    "        balance INT,\n",
    "        housing TEXT,\n",
    "        loan TEXT,\n",
    "        contact TEXT,\n",
    "        day INT,\n",
    "        month TEXT,\n",
    "        duration INT,\n",
    "        campaign INT,\n",
    "        pdays INT,\n",
    "        previous INT,\n",
    "        poutcome TEXT,\n",
    "        deposit TEXT,\n",
    "        ts TIMESTAMP,\n",
    "        PRIMARY KEY (age)\n",
    "    );\n",
    "\"\"\"\n",
    "drop_query = 'drop table bank'\n",
    "# Execute the create table query\n",
    "session.execute(create_table_query)\n",
    "\n",
    "# # Close the connection\n",
    "# session.shutdown()\n",
    "# cluster.shutdown()\n"
   ]
  },
  {
   "cell_type": "code",
   "execution_count": null,
   "metadata": {},
   "outputs": [],
   "source": []
  },
  {
   "cell_type": "code",
   "execution_count": 29,
   "metadata": {},
   "outputs": [],
   "source": [
    "########### testing bank csv\n",
    "import csv\n",
    "import json\n",
    "import datetime\n",
    "import time\n",
    "from cassandra.cluster import Cluster\n",
    "\n",
    "def insert_data_from_csv(csv_file, keyspace, table):\n",
    "    with open(csv_file, 'r') as file:\n",
    "        reader = csv.DictReader(file)\n",
    "        for i, row in enumerate(reader):\n",
    "            if i >= 100:\n",
    "                break\n",
    "            # Convert row to JSON format\n",
    "            row['ts'] = int(time.time() * 1000)\n",
    "            json_row = json.dumps(row)\n",
    "            # Define CQL query to insert JSON data into Cassandra\n",
    "            insert_query = f\"INSERT INTO {keyspace}.{table} JSON '{json_row}';\"\n",
    "            # Execute the insert query\n",
    "            session.execute(insert_query)\n",
    "\n",
    "# Specify CSV file path, keyspace, and table name\n",
    "csv_file_path = 'bank.csv'\n",
    "keyspace_name = 'bigdata'\n",
    "table_name = 'bank'\n",
    "\n",
    "# Call the function to insert data from CSV into Cassandra\n",
    "insert_data_from_csv(csv_file_path, keyspace_name, table_name)\n",
    "\n",
    "# # Close the connection\n",
    "# session.shutdown()\n",
    "# cluster.shutdown()\n"
   ]
  },
  {
   "cell_type": "code",
   "execution_count": 32,
   "metadata": {},
   "outputs": [
    {
     "ename": "KeyboardInterrupt",
     "evalue": "",
     "output_type": "error",
     "traceback": [
      "\u001b[1;31m---------------------------------------------------------------------------\u001b[0m",
      "\u001b[1;31mKeyboardInterrupt\u001b[0m                         Traceback (most recent call last)",
      "Cell \u001b[1;32mIn[32], line 20\u001b[0m\n\u001b[0;32m     18\u001b[0m     random_rows[\u001b[38;5;124m'\u001b[39m\u001b[38;5;124mts\u001b[39m\u001b[38;5;124m'\u001b[39m] \u001b[38;5;241m=\u001b[39m \u001b[38;5;28mint\u001b[39m(time\u001b[38;5;241m.\u001b[39mtime() \u001b[38;5;241m*\u001b[39m \u001b[38;5;241m1000\u001b[39m)\n\u001b[0;32m     19\u001b[0m     insert_data(random_rows, keyspace_name, table_name)\n\u001b[1;32m---> 20\u001b[0m     time\u001b[38;5;241m.\u001b[39msleep(\u001b[38;5;241m5\u001b[39m)\n\u001b[0;32m     21\u001b[0m \u001b[38;5;66;03m# # Close the connection\u001b[39;00m\n\u001b[0;32m     22\u001b[0m \u001b[38;5;66;03m# session.shutdown()\u001b[39;00m\n\u001b[0;32m     23\u001b[0m \u001b[38;5;66;03m# cluster.shutdown()\u001b[39;00m\n",
      "\u001b[1;31mKeyboardInterrupt\u001b[0m: "
     ]
    }
   ],
   "source": [
    "import pandas as pd\n",
    "\n",
    "def insert_data(df, keyspace, table):\n",
    "    for row in df.to_dict(orient='records'):\n",
    "        json_row = json.dumps(row)\n",
    "        # Define CQL query to insert JSON data into Cassandra\n",
    "        insert_query = f\"INSERT INTO {keyspace}.{table} JSON '{json_row}';\"\n",
    "        # Execute the insert query\n",
    "        session.execute(insert_query)\n",
    "\n",
    "# Specify CSV file path, keyspace, and table name\n",
    "df = pd.read_csv('bank.csv')\n",
    "keyspace_name = 'bigdata'\n",
    "table_name = 'bank'\n",
    "\n",
    "for i in range(20):\n",
    "    random_rows = df.sample(n=20)\n",
    "    random_rows['ts'] = int(time.time() * 1000)\n",
    "    insert_data(random_rows, keyspace_name, table_name)\n",
    "    time.sleep(5)\n",
    "# # Close the connection\n",
    "# session.shutdown()\n",
    "# cluster.shutdown()"
   ]
  },
  {
   "cell_type": "code",
   "execution_count": null,
   "metadata": {},
   "outputs": [],
   "source": []
  },
  {
   "cell_type": "code",
   "execution_count": null,
   "metadata": {},
   "outputs": [],
   "source": [
    "# Close the connection\n",
    "session.shutdown()\n",
    "cluster.shutdown()"
   ]
  },
  {
   "cell_type": "code",
   "execution_count": null,
   "metadata": {},
   "outputs": [],
   "source": []
  }
 ],
 "metadata": {
  "kernelspec": {
   "display_name": "venv",
   "language": "python",
   "name": "python3"
  },
  "language_info": {
   "codemirror_mode": {
    "name": "ipython",
    "version": 3
   },
   "file_extension": ".py",
   "mimetype": "text/x-python",
   "name": "python",
   "nbconvert_exporter": "python",
   "pygments_lexer": "ipython3",
   "version": "3.11.4"
  }
 },
 "nbformat": 4,
 "nbformat_minor": 2
}
