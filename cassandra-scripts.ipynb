{
 "cells": [
  {
   "cell_type": "code",
   "execution_count": 1,
   "metadata": {},
   "outputs": [
    {
     "name": "stdout",
     "output_type": "stream",
     "text": [
      "Requirement already satisfied: cassandra-driver in c:\\users\\saritajoshi\\documents\\repos\\credit-card-fraud-detection-spark\\venv\\lib\\site-packages (3.29.1)\n",
      "Requirement already satisfied: geomet<0.3,>=0.1 in c:\\users\\saritajoshi\\documents\\repos\\credit-card-fraud-detection-spark\\venv\\lib\\site-packages (from cassandra-driver) (0.2.1.post1)\n",
      "Requirement already satisfied: click in c:\\users\\saritajoshi\\documents\\repos\\credit-card-fraud-detection-spark\\venv\\lib\\site-packages (from geomet<0.3,>=0.1->cassandra-driver) (8.1.7)\n",
      "Requirement already satisfied: six in c:\\users\\saritajoshi\\documents\\repos\\credit-card-fraud-detection-spark\\venv\\lib\\site-packages (from geomet<0.3,>=0.1->cassandra-driver) (1.16.0)\n",
      "Requirement already satisfied: colorama in c:\\users\\saritajoshi\\documents\\repos\\credit-card-fraud-detection-spark\\venv\\lib\\site-packages (from click->geomet<0.3,>=0.1->cassandra-driver) (0.4.6)\n",
      "Note: you may need to restart the kernel to use updated packages.\n"
     ]
    },
    {
     "name": "stderr",
     "output_type": "stream",
     "text": [
      "\n",
      "[notice] A new release of pip is available: 23.1.2 -> 24.0\n",
      "[notice] To update, run: python.exe -m pip install --upgrade pip\n"
     ]
    }
   ],
   "source": [
    "pip install cassandra-driver"
   ]
  },
  {
   "cell_type": "code",
   "execution_count": 2,
   "metadata": {},
   "outputs": [],
   "source": [
    "from cassandra.cluster import Cluster\n",
    "\n",
    "# Connect to the local Cassandra instance\n",
    "cluster = Cluster(['127.0.0.1'])  # Assuming Cassandra is running on localhost\n",
    "session = cluster.connect()\n",
    "\n"
   ]
  },
  {
   "cell_type": "code",
   "execution_count": 4,
   "metadata": {},
   "outputs": [],
   "source": [
    "session.execute(\"CREATE KEYSPACE IF NOT EXISTS bigdata WITH replication = {'class':'SimpleStrategy', 'replication_factor' : 3}\")\n",
    "session.set_keyspace(\"bigdata\")"
   ]
  },
  {
   "cell_type": "code",
   "execution_count": 5,
   "metadata": {},
   "outputs": [
    {
     "data": {
      "text/plain": [
       "<cassandra.cluster.ResultSet at 0x272d8502310>"
      ]
     },
     "execution_count": 5,
     "metadata": {},
     "output_type": "execute_result"
    }
   ],
   "source": [
    "# Execute your Cassandra commands here\n",
    "query = \"CREATE TABLE IF NOT EXISTS test (id UUID PRIMARY KEY, amt FLOAT)\"\n",
    "session.execute(query)\n",
    "\n"
   ]
  },
  {
   "cell_type": "code",
   "execution_count": 8,
   "metadata": {},
   "outputs": [
    {
     "data": {
      "text/plain": [
       "<cassandra.cluster.ResultSet at 0x272d8d78590>"
      ]
     },
     "execution_count": 8,
     "metadata": {},
     "output_type": "execute_result"
    }
   ],
   "source": [
    "from cassandra.cluster import Cluster\n",
    "import json\n",
    "# JSON data to insert\n",
    "json_data = {\n",
    "    \"id\": \"123e4567-e89b-12d3-a456-426614174000\",\n",
    "    \"amt\": 100.50\n",
    "}\n",
    "\n",
    "# Convert JSON data to a string\n",
    "json_string = json.dumps(json_data)\n",
    "\n",
    "# Prepare and execute the INSERT statement with JSON data\n",
    "insert_query = \"INSERT INTO test JSON %s\"\n",
    "session.execute(insert_query, [json_string])\n",
    "\n",
    "# Close the connection\n",
    "# session.shutdown()\n",
    "# cluster.shutdown()\n"
   ]
  },
  {
   "cell_type": "code",
   "execution_count": 9,
   "metadata": {},
   "outputs": [
    {
     "name": "stdout",
     "output_type": "stream",
     "text": [
      "Row(id=UUID('123e4567-e89b-12d3-a456-426614174000'), amt=100.5)\n"
     ]
    }
   ],
   "source": [
    "# Prepare and execute the SELECT statement\n",
    "select_query = \"SELECT * FROM test\"\n",
    "result_set = session.execute(select_query)\n",
    "\n",
    "# Process the result set\n",
    "for row in result_set:\n",
    "    print(row)\n"
   ]
  },
  {
   "cell_type": "code",
   "execution_count": null,
   "metadata": {},
   "outputs": [],
   "source": [
    "import csv\n",
    "from cassandra.cluster import Cluster\n",
    "import json\n",
    "cluster = Cluster()\n",
    "session = cluster.connect()\n",
    "session.set_keyspace(\"bigdata\")\n",
    "session.execute(\"CREATE TABLE IF NOT EXISTS training (txn_id varchar PRIMARY KEY,cc_no bigint ,txn_time varchar, year smallint, month smallint, day smallint, hour smallint, minute smallint,amount float, cc_provider int, merchant varchar,merchant_index smallint, country_name varchar, country_code varchar,country_index smallint, age int, marital_status varchar,marital_status_index smallint,gender varchar,gender_index smallint,loan varchar,loan_index smallint, status varchar,status_index smallint)\")\n",
    "with open('50_50.csv', 'r',encoding=\"ISO-8859-1\") as csvfile:\n",
    "        reader=csv.reader(csvfile)\n",
    "        for row in reader:\n",
    "        \t#print(row)\n",
    "        \t#msg=json.loads(row)\n",
    "        \t#print(msg)\n",
    "        \tdic={\n",
    "        \t\"txn_id\":row[0],\n",
    "        \t\"cc_no\":row[1],\n",
    "        \t\"txn_time\":row[2],\n",
    "        \t\"year\":row[3],\n",
    "        \t\"month\":row[4],\n",
    "        \t\"day\":row[5],\n",
    "        \t\"hour\":row[6],\n",
    "        \t\"minute\":row[7],\n",
    "        \t\"amount\":row[8],\n",
    "        \t\"cc_provider\":row[9],\n",
    "        \t\"merchant\":row[10],\n",
    "            \"merchant_index\":row[11],\n",
    "        \t\"country_name\":row[12],\n",
    "        \t\"country_code\":row[13],\n",
    "            \"country_index\":row[14],\n",
    "        \t\"age\":row[15],\n",
    "        \t\"marital_status\":row[16],\n",
    "            \"marital_status_index\":row[17],\n",
    "        \t\"gender\":row[18],\n",
    "            \"gender_index\":row[19],\n",
    "        \t\"loan\":row[20],\n",
    "            \"loan_index\":row[21],\n",
    "        \t\"status\":row[22],\n",
    "            \"status_index\":row[23]\n",
    "        \t}            \n",
    "        \tr = json.dumps(dic)\n",
    "        \t#print(r)\n",
    "        \tstrq=\" INSERT INTO training JSON \"+\"'\"+r+\"'\"\n",
    "        \tsession.execute(strq)"
   ]
  },
  {
   "cell_type": "code",
   "execution_count": null,
   "metadata": {},
   "outputs": [],
   "source": []
  },
  {
   "cell_type": "code",
   "execution_count": null,
   "metadata": {},
   "outputs": [],
   "source": [
    "# Close the connection\n",
    "session.shutdown()\n",
    "cluster.shutdown()"
   ]
  },
  {
   "cell_type": "code",
   "execution_count": null,
   "metadata": {},
   "outputs": [],
   "source": []
  }
 ],
 "metadata": {
  "kernelspec": {
   "display_name": "venv",
   "language": "python",
   "name": "python3"
  },
  "language_info": {
   "codemirror_mode": {
    "name": "ipython",
    "version": 3
   },
   "file_extension": ".py",
   "mimetype": "text/x-python",
   "name": "python",
   "nbconvert_exporter": "python",
   "pygments_lexer": "ipython3",
   "version": "3.11.4"
  }
 },
 "nbformat": 4,
 "nbformat_minor": 2
}
